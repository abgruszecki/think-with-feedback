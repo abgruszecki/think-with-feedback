{
 "cells": [
  {
   "cell_type": "code",
   "execution_count": null,
   "metadata": {},
   "outputs": [],
   "source": [
    "import os\n",
    "from pathlib import Path\n",
    "import sys\n",
    "flowd = next(p for p in list(Path.cwd().parents) + [Path.cwd()] if p.name.startswith('flow_'))\n",
    "extra_paths = [str(p) for p in (flowd.parent, flowd)]\n",
    "os.environ['PYTHONPATH'] = ':'.join(extra_paths)\n",
    "sys.path.extend(extra_paths)"
   ]
  },
  {
   "cell_type": "markdown",
   "metadata": {},
   "source": [
    "This notebook relies on `flow_main/steps_full.ipynb`."
   ]
  },
  {
   "cell_type": "code",
   "execution_count": null,
   "metadata": {},
   "outputs": [],
   "source": [
    "# %%python\n",
    "import fetch_process_solutions_py\n",
    "import fetch_extract_checker_type\n",
    "fetch_process_solutions_py.main(full=True, link=True)\n",
    "fetch_extract_checker_type.main(full=True, link=True)"
   ]
  },
  {
   "cell_type": "code",
   "execution_count": null,
   "metadata": {},
   "outputs": [],
   "source": [
    "# %%python\n",
    "from lua_prompts import main\n",
    "main()"
   ]
  },
  {
   "cell_type": "markdown",
   "metadata": {},
   "source": [
    "Now there are prompts in `out/lua_prompts/result.jsonl`.\n",
    "\n",
    "Scripts in `run_benchmark` want to read them.\n",
    "\n",
    "They can be ran from the commandline (first go to `codeforces-cots` and run `source scripts/activate`).\n",
    "They're still messy so you'll have to read what they do and tweak them, sorry."
   ]
  }
 ],
 "metadata": {
  "kernelspec": {
   "display_name": ".venv",
   "language": "python",
   "name": "python3"
  },
  "language_info": {
   "name": "python",
   "version": "3.12.3"
  }
 },
 "nbformat": 4,
 "nbformat_minor": 2
}
