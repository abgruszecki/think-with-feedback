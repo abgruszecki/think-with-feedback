{
 "cells": [
  {
   "cell_type": "code",
   "execution_count": 2,
   "metadata": {},
   "outputs": [
    {
     "name": "stdout",
     "output_type": "stream",
     "text": [
      "flowd=PosixPath('/home/abgruszecki/workspace/think-with-feedback/codeforces-cots/flow_lua')\n"
     ]
    }
   ],
   "source": [
    "import os\n",
    "from pathlib import Path\n",
    "import sys\n",
    "flowd = next(p for p in Path.cwd().parents if p.name.startswith('flow_'))\n",
    "print(f'{flowd=}')\n",
    "extra_paths = [str(p) for p in (flowd.parent, flowd)]\n",
    "os.environ['PYTHONPATH'] = ':'.join(extra_paths)\n",
    "sys.path.extend(extra_paths)"
   ]
  },
  {
   "cell_type": "code",
   "execution_count": 4,
   "metadata": {},
   "outputs": [],
   "source": [
    "import pandas as pd"
   ]
  },
  {
   "cell_type": "code",
   "execution_count": null,
   "metadata": {},
   "outputs": [],
   "source": [
    "subflow_outd = Path.cwd()/'out'\n",
    "l = [\n",
    "    ('Qwen3-32B', subflow_outd/'20250507T061000+boa'),\n",
    "    ('Qwen3-8B', subflow_outd/'20250507T115417+boa'),\n",
    "    ('Qwen3-4B', subflow_outd/'20250507T160818+explorer'),\n",
    "    ('Qwen3-1.7B', subflow_outd/'20250507T161026+explorer'),\n",
    "    ('Qwen2p5-Coder-14B-Instruct', subflow_outd/'20250507T061423+boa'),\n",
    "]"
   ]
  },
  {
   "cell_type": "code",
   "execution_count": 5,
   "metadata": {},
   "outputs": [],
   "source": [
    "df = pd.read_json(l[0][1]/'verify/report.jsonl', lines=True)"
   ]
  },
  {
   "cell_type": "code",
   "execution_count": 9,
   "metadata": {},
   "outputs": [
    {
     "data": {
      "text/plain": [
       "0.9111111111111111"
      ]
     },
     "execution_count": 9,
     "metadata": {},
     "output_type": "execute_result"
    }
   ],
   "source": [
    "float((df['status'] == 'success').mean())"
   ]
  },
  {
   "cell_type": "code",
   "execution_count": 10,
   "metadata": {},
   "outputs": [],
   "source": [
    "dfs = [\n",
    "    (model_name, pd.read_json(step_outd/'verify/report.jsonl', lines=True))\n",
    "    for model_name, step_outd in l\n",
    "]"
   ]
  },
  {
   "cell_type": "code",
   "execution_count": 21,
   "metadata": {},
   "outputs": [
    {
     "data": {
      "text/html": [
       "<div>\n",
       "<style scoped>\n",
       "    .dataframe tbody tr th:only-of-type {\n",
       "        vertical-align: middle;\n",
       "    }\n",
       "\n",
       "    .dataframe tbody tr th {\n",
       "        vertical-align: top;\n",
       "    }\n",
       "\n",
       "    .dataframe thead th {\n",
       "        text-align: right;\n",
       "    }\n",
       "</style>\n",
       "<table border=\"1\" class=\"dataframe\">\n",
       "  <thead>\n",
       "    <tr style=\"text-align: right;\">\n",
       "      <th></th>\n",
       "      <th>model_name</th>\n",
       "      <th>success_rate</th>\n",
       "      <th>n_problems</th>\n",
       "      <th>n_samples</th>\n",
       "    </tr>\n",
       "  </thead>\n",
       "  <tbody>\n",
       "    <tr>\n",
       "      <th>0</th>\n",
       "      <td>Qwen3-32B</td>\n",
       "      <td>0.911111</td>\n",
       "      <td>45</td>\n",
       "      <td>1</td>\n",
       "    </tr>\n",
       "    <tr>\n",
       "      <th>1</th>\n",
       "      <td>Qwen3-8B</td>\n",
       "      <td>0.592834</td>\n",
       "      <td>307</td>\n",
       "      <td>1</td>\n",
       "    </tr>\n",
       "    <tr>\n",
       "      <th>2</th>\n",
       "      <td>Qwen3-4B</td>\n",
       "      <td>0.306792</td>\n",
       "      <td>854</td>\n",
       "      <td>1</td>\n",
       "    </tr>\n",
       "    <tr>\n",
       "      <th>3</th>\n",
       "      <td>Qwen3-1.7B</td>\n",
       "      <td>0.054933</td>\n",
       "      <td>892</td>\n",
       "      <td>1</td>\n",
       "    </tr>\n",
       "    <tr>\n",
       "      <th>4</th>\n",
       "      <td>Qwen2p5-Coder-14B-Instruct</td>\n",
       "      <td>0.135135</td>\n",
       "      <td>1147</td>\n",
       "      <td>1</td>\n",
       "    </tr>\n",
       "  </tbody>\n",
       "</table>\n",
       "</div>"
      ],
      "text/plain": [
       "                   model_name  success_rate  n_problems  n_samples\n",
       "0                   Qwen3-32B      0.911111          45          1\n",
       "1                    Qwen3-8B      0.592834         307          1\n",
       "2                    Qwen3-4B      0.306792         854          1\n",
       "3                  Qwen3-1.7B      0.054933         892          1\n",
       "4  Qwen2p5-Coder-14B-Instruct      0.135135        1147          1"
      ]
     },
     "execution_count": 21,
     "metadata": {},
     "output_type": "execute_result"
    }
   ],
   "source": [
    "rows = []\n",
    "for model_name, df in dfs:\n",
    "    success_rate = float((df['status'] == 'success').mean())\n",
    "    r = {\n",
    "        'model_name': model_name,\n",
    "        'success_rate': success_rate,\n",
    "        'n_problems': len(df),\n",
    "        'n_samples': 1,\n",
    "    }\n",
    "    rows.append(r)\n",
    "df_res = pd.DataFrame(rows)\n",
    "df_res"
   ]
  }
 ],
 "metadata": {
  "kernelspec": {
   "display_name": ".venv",
   "language": "python",
   "name": "python3"
  },
  "language_info": {
   "codemirror_mode": {
    "name": "ipython",
    "version": 3
   },
   "file_extension": ".py",
   "mimetype": "text/x-python",
   "name": "python",
   "nbconvert_exporter": "python",
   "pygments_lexer": "ipython3",
   "version": "3.12.3"
  }
 },
 "nbformat": 4,
 "nbformat_minor": 2
}
