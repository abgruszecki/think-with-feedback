{
 "cells": [
  {
   "cell_type": "code",
   "execution_count": 2,
   "metadata": {},
   "outputs": [],
   "source": [
    "import os\n",
    "from pathlib import Path\n",
    "import sys\n",
    "flowd = next(p for p in list(Path.cwd().parents) + [Path.cwd()] if p.name.startswith('flow_'))\n",
    "extra_paths = [str(p) for p in (flowd.parent, flowd)]\n",
    "os.environ['PYTHONPATH'] = ':'.join(extra_paths)\n",
    "sys.path.extend(extra_paths)"
   ]
  },
  {
   "cell_type": "markdown",
   "metadata": {},
   "source": [
    "This notebook shows the steps to preprocess the entire source dataset.\n",
    "\n",
    "Other step scripts may want to fetch that data."
   ]
  },
  {
   "cell_type": "code",
   "execution_count": 5,
   "metadata": {},
   "outputs": [
    {
     "name": "stderr",
     "output_type": "stream",
     "text": [
      "100%|██████████| 9556/9556 [08:31<00:00, 18.67it/s]\n"
     ]
    }
   ],
   "source": [
    "%%python\n",
    "from process_solutions_py import main\n",
    "main(range='full', only_report=True)"
   ]
  },
  {
   "cell_type": "code",
   "execution_count": 9,
   "metadata": {},
   "outputs": [
    {
     "name": "stderr",
     "output_type": "stream",
     "text": [
      "No thinks end found!\n",
      "2025-05-08 14:39:08.367 | WARNING  | extract_checker_type:gen_output_rows:52 - No JSON found at 201\n",
      "2025-05-08 14:39:08.455 | WARNING  | extract_checker_type:gen_output_rows:52 - No JSON found at 665\n",
      "2025-05-08 14:39:08.533 | WARNING  | extract_checker_type:gen_output_rows:58 - Error parsing JSON at 998: Invalid \\escape: line 3 column 1671 (char 1695)\n",
      "2025-05-08 14:39:08.535 | SUCCESS  | extract_checker_type:main:65 - Wrote: out/extract_checker_type/checker-types.jsonl\n"
     ]
    }
   ],
   "source": [
    "%%python\n",
    "from extract_checker_type import main\n",
    "main(range='full')"
   ]
  }
 ],
 "metadata": {
  "kernelspec": {
   "display_name": ".venv",
   "language": "python",
   "name": "python3"
  },
  "language_info": {
   "codemirror_mode": {
    "name": "ipython",
    "version": 3
   },
   "file_extension": ".py",
   "mimetype": "text/x-python",
   "name": "python",
   "nbconvert_exporter": "python",
   "pygments_lexer": "ipython3",
   "version": "3.12.3"
  }
 },
 "nbformat": 4,
 "nbformat_minor": 2
}
